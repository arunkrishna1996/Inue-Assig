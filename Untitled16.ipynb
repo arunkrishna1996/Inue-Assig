{
 "cells": [
  {
   "cell_type": "code",
   "execution_count": 58,
   "id": "8f6b2c15",
   "metadata": {},
   "outputs": [
    {
     "name": "stdout",
     "output_type": "stream",
     "text": [
      "enter the number5\n",
      "False\n"
     ]
    }
   ],
   "source": [
    "#1. What are the two values of the Boolean data type? How do you write them?\n",
    "\"\"\"\n",
    "The two values of Boolean are True and False\n",
    "\"\"\"\n",
    "j=int (input(\"enter the number\"))\n",
    "if j==1:\n",
    "    print(True)\n",
    "else:\n",
    "    print(False)"
   ]
  },
  {
   "cell_type": "code",
   "execution_count": null,
   "id": "5011c1da",
   "metadata": {},
   "outputs": [],
   "source": [
    "#2. What are the three different types of Boolean operators?\n",
    "\"\"\"\n",
    "The two values of Boolean are AND,OR & NOT\n",
    "\"\"\""
   ]
  },
  {
   "cell_type": "code",
   "execution_count": 59,
   "id": "a1ebe4bd",
   "metadata": {},
   "outputs": [
    {
     "name": "stdout",
     "output_type": "stream",
     "text": [
      "AND\n",
      "\r\n",
      "False\n",
      "False\n",
      "True\n",
      "\r\n",
      "OR\n",
      "\r\n",
      "True\n",
      "False\n",
      "True\n",
      "\r\n",
      "NOT\n",
      "\r\n",
      "False\n",
      "True\n"
     ]
    }
   ],
   "source": [
    " #3. Make a list of each Boolean operator's truth tables (i.e. every possible combination of Boolean values for the operator and what it evaluate ).\n",
    "# Ans: \n",
    "print('AND')\n",
    "print('\\r')\n",
    "print (bool (True * False))\n",
    "print (bool(False *False))\n",
    "print (bool (True *True))\n",
    "print('\\r')\n",
    "print('OR')\n",
    "print('\\r')\n",
    "print (bool (True +  False))\n",
    "print (bool(False + False))\n",
    "print (bool (True + True))\n",
    "print('\\r')\n",
    "print('NOT')\n",
    "print('\\r')\n",
    "print (not True)\n",
    "print (not False)\n",
    "        "
   ]
  },
  {
   "cell_type": "code",
   "execution_count": 35,
   "id": "d2c25bc0",
   "metadata": {},
   "outputs": [
    {
     "data": {
      "text/plain": [
       "'\\nAns:\\n(5 > 4) and (3 == 5)--False\\nnot (5 > 4)-- False\\n(5 > 4) or (3 == 5)--True \\nnot ((5 > 4) or (3 == 5))--False\\n(True and True) and (True == False)--False\\n(not False) or (not True)--True  '"
      ]
     },
     "execution_count": 35,
     "metadata": {},
     "output_type": "execute_result"
    }
   ],
   "source": [
    "\"\"\"4. What are the values of the following expressions?\n",
    "(5 > 4) and (3 == 5)\n",
    "not (5 > 4)\n",
    "(5 > 4) or (3 == 5)\n",
    "not ((5 > 4) or (3 == 5))\n",
    "(True and True) and (True == False)\n",
    "(not False) or (not True)\n",
    "\"\"\"\n",
    "\"\"\"\n",
    "Ans:\n",
    "(5 > 4) and (3 == 5)--False\n",
    "not (5 > 4)-- False\n",
    "(5 > 4) or (3 == 5)--True \n",
    "not ((5 > 4) or (3 == 5))--False\n",
    "(True and True) and (True == False)--False\n",
    "(not False) or (not True)--True  \"\"\""
   ]
  },
  {
   "cell_type": "code",
   "execution_count": 36,
   "id": "78f87fca",
   "metadata": {},
   "outputs": [
    {
     "data": {
      "text/plain": [
       "\"\\nComparison operators are\\n'==','>','<','>=','<=','!='\\n\""
      ]
     },
     "execution_count": 36,
     "metadata": {},
     "output_type": "execute_result"
    }
   ],
   "source": [
    "#5. What are the six comparison operators?\n",
    "\"\"\"\n",
    "Comparison operators are\n",
    "'==','>','<','>=','<=','!='\n",
    "\"\"\""
   ]
  },
  {
   "cell_type": "code",
   "execution_count": 37,
   "id": "2702749e",
   "metadata": {},
   "outputs": [],
   "source": [
    "#6. How do you tell the difference between the equal to and assignment operators?Describe a condition and when you would use one."
   ]
  },
  {
   "cell_type": "code",
   "execution_count": 39,
   "id": "72b9a552",
   "metadata": {},
   "outputs": [
    {
     "name": "stdout",
     "output_type": "stream",
     "text": [
      "ham\n",
      "spam\n",
      "spam\n"
     ]
    }
   ],
   "source": [
    "\"\"\"7. Identify the three blocks in this code:spam = 0\n",
    "if spam == 10:\n",
    "    print('eggs')\n",
    "if spam > 5:\n",
    "    print('bacon')\n",
    "else:\n",
    "    print('ham')\n",
    "    print('spam')\n",
    "    print('spam')\n",
    "\"\"\"\n",
    "\"\"\"Ans:\n",
    "Three blocks are ham,spam & spam\n",
    "\"\"\""
   ]
  },
  {
   "cell_type": "code",
   "execution_count": 42,
   "id": "175812a4",
   "metadata": {},
   "outputs": [
    {
     "name": "stdout",
     "output_type": "stream",
     "text": [
      "enter the number6\n",
      "Greetings\n"
     ]
    }
   ],
   "source": [
    "#8. Write code that prints Hello if 1 is stored in spam, prints Howdy if 2 is stored in spam, and prints Greetings! if anything else is stored in spam.\n",
    "\n",
    "spam=int(input('enter the number'))\n",
    "if spam==1:\n",
    "    print('Hello')\n",
    "elif spam==2:\n",
    "    print('Howdy')\n",
    "else:\n",
    "    print('Greetings')"
   ]
  },
  {
   "cell_type": "code",
   "execution_count": 43,
   "id": "de5dac89",
   "metadata": {},
   "outputs": [
    {
     "data": {
      "text/plain": [
       "'Ans: F5'"
      ]
     },
     "execution_count": 43,
     "metadata": {},
     "output_type": "execute_result"
    }
   ],
   "source": [
    "#9.If your programme is stuck in an endless loop, what keys you’ll press?\n",
    "\"\"\"Ans: F5\"\"\""
   ]
  },
  {
   "cell_type": "code",
   "execution_count": 44,
   "id": "ab8a1ae1",
   "metadata": {},
   "outputs": [
    {
     "data": {
      "text/plain": [
       "\"Ans: While in a loop(for or while) a 'Break' statement terminates the whole loop whereas for any value in a loop that\\nexecutes the 'Continue' the loop/next cmmands in the loop will be executed \""
      ]
     },
     "execution_count": 44,
     "metadata": {},
     "output_type": "execute_result"
    }
   ],
   "source": [
    "#10. How can you tell the difference between break and continue?\n",
    "\"\"\"Ans: While in a loop(for or while) a 'Break' statement terminates the whole loop whereas for any value in a loop that\n",
    "executes the 'Continue' the loop/next cmmands in the loop will be executed \"\"\""
   ]
  },
  {
   "cell_type": "code",
   "execution_count": 49,
   "id": "5d64720b",
   "metadata": {},
   "outputs": [
    {
     "data": {
      "text/plain": [
       "'In a for loop, there is no difference between range(10), range(0, 10), and range(0, 10, 1) as, for loops traverse through \\neach dataset and generates output from 0 to 0'"
      ]
     },
     "execution_count": 49,
     "metadata": {},
     "output_type": "execute_result"
    }
   ],
   "source": [
    "#11. In a for loop, what is the difference between range(10), range(0, 10), and range(0, 10, 1)?\n",
    "\"\"\"In a for loop, there is no difference between range(10), range(0, 10), and range(0, 10, 1) as, for loops traverse through \n",
    "each dataset and generates output from 0 to 0\"\"\""
   ]
  },
  {
   "cell_type": "code",
   "execution_count": 55,
   "id": "640fb5f0",
   "metadata": {},
   "outputs": [
    {
     "name": "stdout",
     "output_type": "stream",
     "text": [
      "1\n",
      "2\n",
      "3\n",
      "4\n",
      "5\n",
      "6\n",
      "7\n",
      "8\n",
      "9\n",
      "10\n"
     ]
    }
   ],
   "source": [
    "#12. Write a short program that prints the numbers 1 to 10 using a for loop. Then write an equivalent program that prints the numbers 1 to 10 using a while loop.\n",
    "n=range(1,11)\n",
    "for i in n:\n",
    "    print(i)\n",
    "j=1\n",
    "while j==n:\n",
    "    print(j)"
   ]
  },
  {
   "cell_type": "code",
   "execution_count": 57,
   "id": "5aa8336c",
   "metadata": {},
   "outputs": [
    {
     "name": "stdout",
     "output_type": "stream",
     "text": [
      "1\n",
      "2\n",
      "3\n",
      "4\n",
      "5\n",
      "6\n",
      "7\n",
      "8\n",
      "9\n",
      "10\n"
     ]
    }
   ],
   "source": [
    "n=10\n",
    "j=1\n",
    "while j <= n:\n",
    "    print(j)\n",
    "    j=j+1"
   ]
  },
  {
   "cell_type": "code",
   "execution_count": null,
   "id": "763ccf1b",
   "metadata": {},
   "outputs": [],
   "source": [
    "#13. If you had a function named bacon() inside a module named spam, how would you call it after importing spam?\n",
    "\"\"\"Function can be called through spam.bacon()\"\"\""
   ]
  }
 ],
 "metadata": {
  "kernelspec": {
   "display_name": "Python 3 (ipykernel)",
   "language": "python",
   "name": "python3"
  },
  "language_info": {
   "codemirror_mode": {
    "name": "ipython",
    "version": 3
   },
   "file_extension": ".py",
   "mimetype": "text/x-python",
   "name": "python",
   "nbconvert_exporter": "python",
   "pygments_lexer": "ipython3",
   "version": "3.9.7"
  }
 },
 "nbformat": 4,
 "nbformat_minor": 5
}
